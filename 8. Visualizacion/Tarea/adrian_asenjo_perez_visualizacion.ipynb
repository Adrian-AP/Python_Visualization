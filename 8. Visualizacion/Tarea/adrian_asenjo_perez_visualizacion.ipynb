{
 "cells": [
  {
   "attachments": {},
   "cell_type": "markdown",
   "metadata": {},
   "source": [
    "## **TAREA VISUALIZACIÓN**\n",
    "\n",
    "**Adrián Asenjo Pérez**"
   ]
  },
  {
   "attachments": {},
   "cell_type": "markdown",
   "metadata": {},
   "source": [
    "Cargar librerías"
   ]
  },
  {
   "cell_type": "code",
   "execution_count": 457,
   "metadata": {},
   "outputs": [
    {
     "name": "stdout",
     "output_type": "stream",
     "text": [
      "Librerías cardas\n"
     ]
    }
   ],
   "source": [
    "import pandas as pd\n",
    "import os\n",
    "import numpy as np\n",
    "\n",
    "import pandas as pd\n",
    "import matplotlib.pyplot as plt\n",
    "import seaborn as sns\n",
    "import sklearn\n",
    "\n",
    "import plotnine\n",
    "from plotnine import *\n",
    "\n",
    "import plotly.express as px\n",
    "\n",
    "print('Librerías cardas')"
   ]
  },
  {
   "attachments": {},
   "cell_type": "markdown",
   "metadata": {},
   "source": [
    "Lectura de ficheros\n",
    "\n",
    "- https://www.ine.es/jaxiT3/Tabla.htm?t=26014\n",
    "- https://www.ine.es/jaxiT3/Tabla.htm?t=9691"
   ]
  },
  {
   "cell_type": "code",
   "execution_count": 458,
   "metadata": {},
   "outputs": [],
   "source": [
    "df_delincuencia =pd.read_csv('./delilncuencia.csv', sep=';')\n",
    "df_poblacion = pd.read_csv('./poblacion_.csv', sep=';')"
   ]
  },
  {
   "attachments": {},
   "cell_type": "markdown",
   "metadata": {},
   "source": [
    "Identificación de que ambos DF (delincuencia) contenga la misma información geográfica que el DF de población."
   ]
  },
  {
   "cell_type": "code",
   "execution_count": 459,
   "metadata": {},
   "outputs": [
    {
     "name": "stdout",
     "output_type": "stream",
     "text": [
      "El total de páises no identificados en el df de población son 1 y son las siguientes ['De América'].\n"
     ]
    }
   ],
   "source": [
    "# Identificación de los países (nacionalidades) de las que tenemos incidencia de crímenes que estén incluidas en el fichero de población.\n",
    "\n",
    "\n",
    "paises_df_delincuencia = list(set(df_delincuencia['Nacionalidad']))\n",
    "paises_df_poblacion = list(set(df_poblacion['Nacionalidad']))\n",
    "\n",
    "pendiente = []\n",
    "\n",
    "for i in paises_df_delincuencia:\n",
    "    \n",
    "    if i not in paises_df_poblacion:\n",
    "        \n",
    "        pendiente.append(i)\n",
    "\n",
    "\n",
    "print(f'El total de páises no identificados en el df de población son {len(pendiente)} y son las siguientes {str(pendiente)}.')\n",
    "\n"
   ]
  },
  {
   "attachments": {},
   "cell_type": "markdown",
   "metadata": {},
   "source": [
    "Ajuste del DF Poblacion\n",
    "\n",
    "- Ajustar los periodos y los sexos.\n",
    "- Agrupación geografías américas en una sola"
   ]
  },
  {
   "cell_type": "code",
   "execution_count": 460,
   "metadata": {},
   "outputs": [],
   "source": [
    "# Paso uno filtrar por ambos sexos \n",
    "\n",
    "df_poblacion = df_poblacion[df_poblacion['Sexo']=='Ambos sexos']\n",
    "\n",
    "\n",
    "# Paso dos filtrar por Total Nacional en el campo Provincias\n",
    "\n",
    "df_poblacion = df_poblacion[df_poblacion['Provincias']=='Total Nacional']\n",
    "\n",
    "# Paso tres desagregar por año y mes\n",
    "\n",
    "df_poblacion['año'] = df_poblacion['Periodo'].map(lambda x: str(x).split(' ')[-1])\n",
    "\n",
    "df_poblacion['mes'] = df_poblacion['Periodo'].map(lambda x: str(x).split(' ')[-3])\n",
    "\n",
    "# Paso 4, nos quedamos sólo con la medición de enero\n",
    "\n",
    "df_poblacion = df_poblacion[df_poblacion['mes']=='enero']\n",
    "\n",
    "# Paso 5, pasar el totoal a float\n",
    "\n",
    "df_poblacion['Total'] = df_poblacion['Total'].map(lambda x:  float(str(x).replace('.','').replace(',','.')))\n",
    "\n",
    "# Paso 6 creación pivot table\n",
    "\n",
    "poblacion_pivot = pd.pivot_table(df_poblacion[['año', 'Nacionalidad', 'Total']].drop_duplicates(), index=['año', 'Nacionalidad'], aggfunc=np.sum)\n",
    "poblacion_pivot = poblacion_pivot.reset_index()"
   ]
  },
  {
   "cell_type": "code",
   "execution_count": 461,
   "metadata": {},
   "outputs": [],
   "source": [
    "# Agrupacion de las nacionalidas de américa en una \n",
    "\n",
    "american_ones = ['De América del Norte', 'De Centro América y Caribe', 'De Sudamérica']\n",
    "\n",
    "años = list(set(poblacion_pivot['año']))\n",
    "\n",
    "nuevos_df = []\n",
    "\n",
    "for años_ in años:\n",
    "    \n",
    "    p1 = poblacion_pivot[(poblacion_pivot['año']==años_)&(poblacion_pivot['Nacionalidad']==american_ones[0])]\n",
    "    p2 = poblacion_pivot[(poblacion_pivot['año']==años_)&(poblacion_pivot['Nacionalidad']==american_ones[1])]\n",
    "    p3 = poblacion_pivot[(poblacion_pivot['año']==años_)&(poblacion_pivot['Nacionalidad']==american_ones[2])] \n",
    "\n",
    "    v1 = list(p1['Total'])[0]\n",
    "    v2 = list(p2['Total'])[0]\n",
    "    v3 = list(p3['Total'])[0]\n",
    "   \n",
    "    resultado = v1 + v2 + v3\n",
    "    \n",
    "\n",
    "    linea = [años_,'De América', resultado]\n",
    "    \n",
    "    nuevos_df.append(tuple(linea))\n",
    "\n",
    "# Creación nuevo DF\n",
    "\n",
    "df_america = pd.DataFrame(nuevos_df, columns=list(poblacion_pivot.columns))\n",
    "\n",
    "# Unificación con todo el DF\n",
    "\n",
    "poblacion_pivot_ = pd.concat([poblacion_pivot, df_america])\n",
    "\n",
    "# Ordenación \n",
    "\n",
    "poblacion_pivot_ = poblacion_pivot_.sort_values(by=['año', 'Nacionalidad'])"
   ]
  },
  {
   "attachments": {},
   "cell_type": "markdown",
   "metadata": {},
   "source": [
    "Unión de ambos DF\n",
    "\n",
    "- Se va a crear una cláve única (año + nacionalidad) en ambos DF para poderlos unir. \n",
    "- Union de ambos df (siendo el cruce con el de delincuencia)"
   ]
  },
  {
   "cell_type": "code",
   "execution_count": 462,
   "metadata": {},
   "outputs": [],
   "source": [
    "### Crear la variable cruce, como unión entre la nacionalidad y el periodo ###\n",
    "\n",
    "### DF Delincuencia\n",
    "\n",
    "df_delincuencia['Periodo_'] = df_delincuencia['Periodo'].map(lambda x: str(x)) # Se crea una variable con el periodo en versión str\n",
    "\n",
    "df_delincuencia['_cruce_'] = df_delincuencia['Nacionalidad'] + '_' + df_delincuencia['Periodo_'] # creación clave única\n",
    "\n",
    "df_delincuencia.drop(['Periodo_'], axis=1, inplace= True) # Eliminación de la variable creada\n",
    "\n",
    "df_delincuencia.rename(columns={'Total':'Total_Delincuencia'}, inplace=True) # Renombrar"
   ]
  },
  {
   "cell_type": "code",
   "execution_count": 463,
   "metadata": {},
   "outputs": [],
   "source": [
    "### DF pobalacion\n",
    "\n",
    "poblacion_pivot_['año_'] = poblacion_pivot_['año'].map(lambda x: str(x)) # Pasar la variable año a str\n",
    "\n",
    "\n",
    "poblacion_pivot_['_cruce_'] = poblacion_pivot_['Nacionalidad'] + '_' + poblacion_pivot_['año_'] # creación clave única\n",
    "\n",
    "poblacion_pivot_.drop(['año_'], axis=1, inplace= True) # Eliminación de la variable creada\n",
    "\n",
    "poblacion_pivot_.rename(columns={'Total':'Total_Poblacion'}, inplace=True) # Renombrar\n"
   ]
  },
  {
   "cell_type": "code",
   "execution_count": 464,
   "metadata": {},
   "outputs": [],
   "source": [
    "# Cruce\n",
    "\n",
    "df_poblacion_vs_delincuencia = pd.merge(left=df_delincuencia, right= poblacion_pivot_[['_cruce_', 'Total_Poblacion']].drop_duplicates(), on='_cruce_', how='inner') # Unión\n",
    "df_poblacion_vs_delincuencia.drop(['_cruce_'], axis=1, inplace= True) # Eliminación regla de cruce\n",
    "\n",
    "df_poblacion_vs_delincuencia['%_Delincuencia_vs_poblacion'] = (df_poblacion_vs_delincuencia['Total_Delincuencia'] / df_poblacion_vs_delincuencia['Total_Poblacion'])*100 # Porcentaje de delincuncia en función de la población\n",
    "\n",
    "df_poblacion_vs_delincuencia['Tipo de Delito: Nivel 2'] = df_poblacion_vs_delincuencia['Tipo de Delito: Nivel 2'].fillna('Unknown') # Delitos sin etiquetar como desconcocidos.\n",
    "\n",
    "df_poblacion_vs_delincuencia['%_Delincuencia_vs_poblacion'] = df_poblacion_vs_delincuencia['%_Delincuencia_vs_poblacion'].fillna(0.000000)\n",
    "\n",
    "\n",
    "\n",
    "\n"
   ]
  },
  {
   "attachments": {},
   "cell_type": "markdown",
   "metadata": {},
   "source": [
    "# **Gráficos**\n",
    "\n"
   ]
  },
  {
   "attachments": {},
   "cell_type": "markdown",
   "metadata": {},
   "source": [
    "**Gráfico evolución delincuencia vs nacionalidad**\n",
    "\n",
    "- Tabla Dinámica"
   ]
  },
  {
   "cell_type": "code",
   "execution_count": 465,
   "metadata": {},
   "outputs": [
    {
     "data": {
      "text/html": [
       "<div>\n",
       "<style scoped>\n",
       "    .dataframe tbody tr th:only-of-type {\n",
       "        vertical-align: middle;\n",
       "    }\n",
       "\n",
       "    .dataframe tbody tr th {\n",
       "        vertical-align: top;\n",
       "    }\n",
       "\n",
       "    .dataframe thead tr th {\n",
       "        text-align: left;\n",
       "    }\n",
       "\n",
       "    .dataframe thead tr:last-of-type th {\n",
       "        text-align: right;\n",
       "    }\n",
       "</style>\n",
       "<table border=\"1\" class=\"dataframe\">\n",
       "  <thead>\n",
       "    <tr>\n",
       "      <th></th>\n",
       "      <th colspan=\"6\" halign=\"left\">%_Delincuencia_vs_poblacion</th>\n",
       "    </tr>\n",
       "    <tr>\n",
       "      <th>Nacionalidad</th>\n",
       "      <th>De Africa</th>\n",
       "      <th>De América</th>\n",
       "      <th>De Asia</th>\n",
       "      <th>De Oceanía</th>\n",
       "      <th>Española</th>\n",
       "      <th>País de Europa menos UE27_2020</th>\n",
       "    </tr>\n",
       "    <tr>\n",
       "      <th>Periodo</th>\n",
       "      <th></th>\n",
       "      <th></th>\n",
       "      <th></th>\n",
       "      <th></th>\n",
       "      <th></th>\n",
       "      <th></th>\n",
       "    </tr>\n",
       "  </thead>\n",
       "  <tbody>\n",
       "    <tr>\n",
       "      <th>2013</th>\n",
       "      <td>0.345800</td>\n",
       "      <td>0.374715</td>\n",
       "      <td>0.636993</td>\n",
       "      <td>19.053310</td>\n",
       "      <td>0.007741</td>\n",
       "      <td>0.000000</td>\n",
       "    </tr>\n",
       "    <tr>\n",
       "      <th>2014</th>\n",
       "      <td>0.387069</td>\n",
       "      <td>0.410335</td>\n",
       "      <td>0.681979</td>\n",
       "      <td>1.276962</td>\n",
       "      <td>0.007018</td>\n",
       "      <td>0.000000</td>\n",
       "    </tr>\n",
       "    <tr>\n",
       "      <th>2015</th>\n",
       "      <td>0.455635</td>\n",
       "      <td>0.500998</td>\n",
       "      <td>0.687481</td>\n",
       "      <td>1.059402</td>\n",
       "      <td>0.007237</td>\n",
       "      <td>0.000000</td>\n",
       "    </tr>\n",
       "    <tr>\n",
       "      <th>2016</th>\n",
       "      <td>0.579322</td>\n",
       "      <td>0.599514</td>\n",
       "      <td>0.869136</td>\n",
       "      <td>2.123374</td>\n",
       "      <td>0.005916</td>\n",
       "      <td>0.000000</td>\n",
       "    </tr>\n",
       "    <tr>\n",
       "      <th>2017</th>\n",
       "      <td>0.532919</td>\n",
       "      <td>0.607344</td>\n",
       "      <td>0.767418</td>\n",
       "      <td>1.267196</td>\n",
       "      <td>0.005852</td>\n",
       "      <td>0.000000</td>\n",
       "    </tr>\n",
       "    <tr>\n",
       "      <th>2018</th>\n",
       "      <td>0.516910</td>\n",
       "      <td>0.517165</td>\n",
       "      <td>0.769214</td>\n",
       "      <td>0.879984</td>\n",
       "      <td>0.007740</td>\n",
       "      <td>0.000000</td>\n",
       "    </tr>\n",
       "    <tr>\n",
       "      <th>2019</th>\n",
       "      <td>0.436501</td>\n",
       "      <td>0.480509</td>\n",
       "      <td>0.771119</td>\n",
       "      <td>1.285493</td>\n",
       "      <td>0.007781</td>\n",
       "      <td>0.000000</td>\n",
       "    </tr>\n",
       "    <tr>\n",
       "      <th>2020</th>\n",
       "      <td>0.566456</td>\n",
       "      <td>0.409083</td>\n",
       "      <td>0.583603</td>\n",
       "      <td>0.490828</td>\n",
       "      <td>0.006230</td>\n",
       "      <td>0.000000</td>\n",
       "    </tr>\n",
       "    <tr>\n",
       "      <th>2021</th>\n",
       "      <td>0.498964</td>\n",
       "      <td>0.384094</td>\n",
       "      <td>0.608873</td>\n",
       "      <td>0.394763</td>\n",
       "      <td>0.007252</td>\n",
       "      <td>0.540262</td>\n",
       "    </tr>\n",
       "  </tbody>\n",
       "</table>\n",
       "</div>"
      ],
      "text/plain": [
       "             %_Delincuencia_vs_poblacion                                  \\\n",
       "Nacionalidad                   De Africa De América   De Asia De Oceanía   \n",
       "Periodo                                                                    \n",
       "2013                            0.345800   0.374715  0.636993  19.053310   \n",
       "2014                            0.387069   0.410335  0.681979   1.276962   \n",
       "2015                            0.455635   0.500998  0.687481   1.059402   \n",
       "2016                            0.579322   0.599514  0.869136   2.123374   \n",
       "2017                            0.532919   0.607344  0.767418   1.267196   \n",
       "2018                            0.516910   0.517165  0.769214   0.879984   \n",
       "2019                            0.436501   0.480509  0.771119   1.285493   \n",
       "2020                            0.566456   0.409083  0.583603   0.490828   \n",
       "2021                            0.498964   0.384094  0.608873   0.394763   \n",
       "\n",
       "                                                       \n",
       "Nacionalidad  Española País de Europa menos UE27_2020  \n",
       "Periodo                                                \n",
       "2013          0.007741                       0.000000  \n",
       "2014          0.007018                       0.000000  \n",
       "2015          0.007237                       0.000000  \n",
       "2016          0.005916                       0.000000  \n",
       "2017          0.005852                       0.000000  \n",
       "2018          0.007740                       0.000000  \n",
       "2019          0.007781                       0.000000  \n",
       "2020          0.006230                       0.000000  \n",
       "2021          0.007252                       0.540262  "
      ]
     },
     "execution_count": 465,
     "metadata": {},
     "output_type": "execute_result"
    }
   ],
   "source": [
    "# Cración de tabla dinámica con los datos necesarios.\n",
    "\n",
    "salida = pd.pivot_table(df_poblacion_vs_delincuencia[['%_Delincuencia_vs_poblacion', 'Periodo', 'Nacionalidad']], index='Periodo', columns='Nacionalidad', aggfunc='sum')\n",
    "\n",
    "salida = salida[list(salida.columns)[0:6]].fillna(0.000)\n",
    "salida"
   ]
  },
  {
   "cell_type": "code",
   "execution_count": 466,
   "metadata": {},
   "outputs": [
    {
     "data": {
      "image/png": "[encoded data removed]",
      "text/plain": [
       "<Figure size 1584x720 with 1 Axes>"
      ]
     },
     "metadata": {
      "needs_background": "light"
     },
     "output_type": "display_data"
    }
   ],
   "source": [
    "salida.plot(kind='bar', figsize=(22, 10), ylim=[0, 3], title='% Delincuencia por nacionalidad [2013-2021]', colormap='tab20c');"
   ]
  },
  {
   "attachments": {},
   "cell_type": "markdown",
   "metadata": {},
   "source": [
    "**Gráfico evolución de delitos por tipo de delito.**"
   ]
  },
  {
   "cell_type": "code",
   "execution_count": 467,
   "metadata": {},
   "outputs": [
    {
     "name": "stderr",
     "output_type": "stream",
     "text": [
      "C:\\Users\\asenj\\AppData\\Local\\Temp/ipykernel_8976/3687229707.py:9: UserWarning:\n",
      "\n",
      "Boolean Series key will be reindexed to match DataFrame index.\n",
      "\n"
     ]
    }
   ],
   "source": [
    "# Creación de Diccionario\n",
    "\n",
    "dic_datos = {}\n",
    "\n",
    "for i in list(set(df_poblacion_vs_delincuencia['Tipo de Delito: Nivel 2'])):\n",
    "    \n",
    "    df_poblacion_vs_delincuencia_ = df_poblacion_vs_delincuencia[(df_poblacion_vs_delincuencia['Nacionalidad']!='Total')&(df_poblacion_vs_delincuencia['Tipo de Delito: Nivel 2']==i)]\n",
    "    \n",
    "    df_poblacion_vs_delincuencia_ = df_poblacion_vs_delincuencia_[df_poblacion_vs_delincuencia['%_Delincuencia_vs_poblacion']>0]\n",
    "    \n",
    "    dic_datos[i] = df_poblacion_vs_delincuencia_\n",
    "          "
   ]
  },
  {
   "cell_type": "code",
   "execution_count": 468,
   "metadata": {},
   "outputs": [
    {
     "name": "stdout",
     "output_type": "stream",
     "text": [
      "dict_keys(['6 Contra la libertad', '8 Contra la libertad e indemnidad sexuales', 'Unknown', '12 Contra las relaciones familiares', '18 Falsedades', '20 Contra la Administración de Justicia', '7 Torturas e integridad moral', '3 Lesiones', '19 Contra la Administración Pública', '13 Contra el patrimonio y el orden socioeconómico', '22 Contra el orden público', 'R Resto de delitos', '17 Contra la seguridad colectiva', '1 Homicidio y sus formas']) \n",
      " 14\n"
     ]
    }
   ],
   "source": [
    "# Posiblidad de delitos \n",
    "\n",
    "print(dic_datos.keys(), '\\n', len(list(dic_datos.keys())))"
   ]
  },
  {
   "cell_type": "code",
   "execution_count": 469,
   "metadata": {},
   "outputs": [
    {
     "name": "stderr",
     "output_type": "stream",
     "text": [
      "C:\\Users\\asenj\\AppData\\Local\\Packages\\PythonSoftwareFoundation.Python.3.9_qbz5n2kfra8p0\\LocalCache\\local-packages\\Python39\\site-packages\\plotnine\\layer.py:411: PlotnineWarning:\n",
      "\n",
      "geom_col : Removed 117 rows containing missing values.\n",
      "\n"
     ]
    },
    {
     "name": "stdout",
     "output_type": "stream",
     "text": [
      "6 Contra la libertad\n"
     ]
    },
    {
     "data": {
      "image/png": "[encoded data removed]",
      "text/plain": [
       "<Figure size 1000x500 with 1 Axes>"
      ]
     },
     "metadata": {},
     "output_type": "display_data"
    },
    {
     "data": {
      "text/plain": [
       "<ggplot: (153333822724)>"
      ]
     },
     "execution_count": 469,
     "metadata": {},
     "output_type": "execute_result"
    }
   ],
   "source": [
    "salix = list(dic_datos.keys())[0]\n",
    "\n",
    "print(salix)\n",
    "\n",
    "(\n",
    "    ggplot(dic_datos[salix])  # What data to use\n",
    "    + aes(x = \"Periodo\", \n",
    "          y = \"%_Delincuencia_vs_poblacion\",\n",
    "          fill = 'Nacionalidad',\n",
    "          )  # What variable to use\n",
    "     + scale_y_continuous(limits=(0, 0.0002))\n",
    "     + scale_x_continuous(breaks=range(2012,2022,1))\n",
    "    #+ geom_smooth(method = \"lowess\", span = 0.005)  # Geometric object to use for drawing\n",
    "    + geom_col(position = \"dodge\")\n",
    "     + facet_grid(facets = \". ~ Tipo de Delito: Nivel 2\")\n",
    "     + labs( y='', x='')\n",
    "    \n",
    "     + theme(figure_size=(10, 5))\n",
    "   \n",
    "     \n",
    ")"
   ]
  },
  {
   "cell_type": "code",
   "execution_count": 470,
   "metadata": {},
   "outputs": [
    {
     "name": "stdout",
     "output_type": "stream",
     "text": [
      "18 Falsedades\n"
     ]
    },
    {
     "name": "stderr",
     "output_type": "stream",
     "text": [
      "C:\\Users\\asenj\\AppData\\Local\\Packages\\PythonSoftwareFoundation.Python.3.9_qbz5n2kfra8p0\\LocalCache\\local-packages\\Python39\\site-packages\\plotnine\\layer.py:411: PlotnineWarning:\n",
      "\n",
      "geom_col : Removed 285 rows containing missing values.\n",
      "\n"
     ]
    },
    {
     "data": {
      "image/png": "[encoded data removed]",
      "text/plain": [
       "<Figure size 1000x500 with 1 Axes>"
      ]
     },
     "metadata": {},
     "output_type": "display_data"
    },
    {
     "data": {
      "text/plain": [
       "<ggplot: (153337761961)>"
      ]
     },
     "execution_count": 470,
     "metadata": {},
     "output_type": "execute_result"
    }
   ],
   "source": [
    "salix = list(dic_datos.keys())[4]\n",
    "\n",
    "print(salix)\n",
    "\n",
    "(\n",
    "    ggplot(dic_datos[salix])  # What data to use\n",
    "    + aes(x = \"Periodo\", \n",
    "          y = \"%_Delincuencia_vs_poblacion\",\n",
    "          fill = 'Nacionalidad',\n",
    "          )  # What variable to use\n",
    "     + scale_y_continuous(limits=(0, 0.0002))\n",
    "     + scale_x_continuous(breaks=range(2012,2022,1))\n",
    "    #+ geom_smooth(method = \"lowess\", span = 0.005)  # Geometric object to use for drawing\n",
    "    + geom_col(position = \"dodge\")\n",
    "     + facet_grid(facets = \". ~ Tipo de Delito: Nivel 2\")\n",
    "     + labs( y='', x='')\n",
    "    \n",
    "     + theme(figure_size=(10, 5))\n",
    "   \n",
    "     \n",
    ")"
   ]
  },
  {
   "cell_type": "code",
   "execution_count": 471,
   "metadata": {},
   "outputs": [
    {
     "name": "stdout",
     "output_type": "stream",
     "text": [
      "20 Contra la Administración de Justicia\n"
     ]
    },
    {
     "name": "stderr",
     "output_type": "stream",
     "text": [
      "C:\\Users\\asenj\\AppData\\Local\\Packages\\PythonSoftwareFoundation.Python.3.9_qbz5n2kfra8p0\\LocalCache\\local-packages\\Python39\\site-packages\\plotnine\\layer.py:411: PlotnineWarning:\n",
      "\n",
      "geom_col : Removed 248 rows containing missing values.\n",
      "\n"
     ]
    },
    {
     "data": {
      "image/png": "[encoded data removed]",
      "text/plain": [
       "<Figure size 1000x500 with 1 Axes>"
      ]
     },
     "metadata": {},
     "output_type": "display_data"
    },
    {
     "data": {
      "text/plain": [
       "<ggplot: (153340307845)>"
      ]
     },
     "execution_count": 471,
     "metadata": {},
     "output_type": "execute_result"
    }
   ],
   "source": [
    "salix = list(dic_datos.keys())[5]\n",
    "\n",
    "print(salix)\n",
    "\n",
    "(\n",
    "    ggplot(dic_datos[salix])  # What data to use\n",
    "    + aes(x = \"Periodo\", \n",
    "          y = \"%_Delincuencia_vs_poblacion\",\n",
    "          fill = 'Nacionalidad',\n",
    "          )  # What variable to use\n",
    "     + scale_y_continuous(limits=(0, 0.0002))\n",
    "     + scale_x_continuous(breaks=range(2012,2022,1))\n",
    "    #+ geom_smooth(method = \"lowess\", span = 0.005)  # Geometric object to use for drawing\n",
    "    + geom_col(position = \"dodge\")\n",
    "     + facet_grid(facets = \". ~ Tipo de Delito: Nivel 2\")\n",
    "     + labs( y='', x='')\n",
    "    \n",
    "     + theme(figure_size=(10, 5))\n",
    "   \n",
    "     \n",
    ")"
   ]
  },
  {
   "cell_type": "code",
   "execution_count": 472,
   "metadata": {},
   "outputs": [
    {
     "name": "stdout",
     "output_type": "stream",
     "text": [
      "7 Torturas e integridad moral\n"
     ]
    },
    {
     "name": "stderr",
     "output_type": "stream",
     "text": [
      "C:\\Users\\asenj\\AppData\\Local\\Packages\\PythonSoftwareFoundation.Python.3.9_qbz5n2kfra8p0\\LocalCache\\local-packages\\Python39\\site-packages\\plotnine\\layer.py:411: PlotnineWarning:\n",
      "\n",
      "geom_col : Removed 93 rows containing missing values.\n",
      "\n"
     ]
    },
    {
     "data": {
      "image/png": "[encoded data removed]",
      "text/plain": [
       "<Figure size 1000x500 with 1 Axes>"
      ]
     },
     "metadata": {},
     "output_type": "display_data"
    },
    {
     "data": {
      "text/plain": [
       "<ggplot: (153341068752)>"
      ]
     },
     "execution_count": 472,
     "metadata": {},
     "output_type": "execute_result"
    }
   ],
   "source": [
    "salix = list(dic_datos.keys())[6]\n",
    "\n",
    "print(salix)\n",
    "\n",
    "(\n",
    "    ggplot(dic_datos[salix])  # What data to use\n",
    "    + aes(x = \"Periodo\", \n",
    "          y = \"%_Delincuencia_vs_poblacion\",\n",
    "          fill = 'Nacionalidad',\n",
    "          )  # What variable to use\n",
    "     + scale_y_continuous(limits=(0, 0.0002))\n",
    "     + scale_x_continuous(breaks=range(2012,2022,1))\n",
    "    #+ geom_smooth(method = \"lowess\", span = 0.005)  # Geometric object to use for drawing\n",
    "    + geom_col(position = \"dodge\")\n",
    "     + facet_grid(facets = \". ~ Tipo de Delito: Nivel 2\")\n",
    "     + labs( y='', x='')\n",
    "    \n",
    "     + theme(figure_size=(10, 5))\n",
    "   \n",
    "     \n",
    ")"
   ]
  },
  {
   "cell_type": "code",
   "execution_count": 473,
   "metadata": {},
   "outputs": [
    {
     "name": "stdout",
     "output_type": "stream",
     "text": [
      "3 Lesiones\n"
     ]
    },
    {
     "name": "stderr",
     "output_type": "stream",
     "text": [
      "C:\\Users\\asenj\\AppData\\Local\\Packages\\PythonSoftwareFoundation.Python.3.9_qbz5n2kfra8p0\\LocalCache\\local-packages\\Python39\\site-packages\\plotnine\\layer.py:411: PlotnineWarning:\n",
      "\n",
      "geom_col : Removed 36 rows containing missing values.\n",
      "\n"
     ]
    },
    {
     "data": {
      "image/png": "[encoded data removed]",
      "text/plain": [
       "<Figure size 1000x500 with 1 Axes>"
      ]
     },
     "metadata": {},
     "output_type": "display_data"
    },
    {
     "data": {
      "text/plain": [
       "<ggplot: (153341399540)>"
      ]
     },
     "execution_count": 473,
     "metadata": {},
     "output_type": "execute_result"
    }
   ],
   "source": [
    "salix = list(dic_datos.keys())[7]\n",
    "\n",
    "print(salix)\n",
    "\n",
    "(\n",
    "    ggplot(dic_datos[salix])  # What data to use\n",
    "    + aes(x = \"Periodo\", \n",
    "          y = \"%_Delincuencia_vs_poblacion\",\n",
    "          fill = 'Nacionalidad',\n",
    "          )  # What variable to use\n",
    "     + scale_y_continuous(limits=(0, 0.0002))\n",
    "     + scale_x_continuous(breaks=range(2012,2022,1))\n",
    "    #+ geom_smooth(method = \"lowess\", span = 0.005)  # Geometric object to use for drawing\n",
    "    + geom_col(position = \"dodge\")\n",
    "     + facet_grid(facets = \". ~ Tipo de Delito: Nivel 2\")\n",
    "     + labs( y='', x='')\n",
    "    \n",
    "     + theme(figure_size=(10, 5))\n",
    "   \n",
    "     \n",
    ")"
   ]
  },
  {
   "cell_type": "code",
   "execution_count": 474,
   "metadata": {},
   "outputs": [
    {
     "name": "stdout",
     "output_type": "stream",
     "text": [
      "19 Contra la Administración Pública\n"
     ]
    },
    {
     "data": {
      "image/png": "[encoded data removed]",
      "text/plain": [
       "<Figure size 1000x500 with 1 Axes>"
      ]
     },
     "metadata": {},
     "output_type": "display_data"
    },
    {
     "data": {
      "text/plain": [
       "<ggplot: (153341470452)>"
      ]
     },
     "execution_count": 474,
     "metadata": {},
     "output_type": "execute_result"
    }
   ],
   "source": [
    "salix = list(dic_datos.keys())[8]\n",
    "\n",
    "print(salix)\n",
    "\n",
    "(\n",
    "    ggplot(dic_datos[salix])  # What data to use\n",
    "    + aes(x = \"Periodo\", \n",
    "          y = \"%_Delincuencia_vs_poblacion\",\n",
    "          fill = 'Nacionalidad',\n",
    "          )  # What variable to use\n",
    "     + scale_y_continuous(limits=(0, 0.02))\n",
    "     + scale_x_continuous(breaks=range(2012,2022,1))\n",
    "    #+ geom_smooth(method = \"lowess\", span = 0.05)  # Geometric object to use for drawing\n",
    "    + geom_col(position = \"dodge\")\n",
    "     + facet_grid(facets = \". ~ Tipo de Delito: Nivel 2\")\n",
    "     + labs( y='', x='')\n",
    "    \n",
    "     + theme(figure_size=(10, 5))\n",
    "   \n",
    "     \n",
    ")"
   ]
  },
  {
   "cell_type": "code",
   "execution_count": 475,
   "metadata": {},
   "outputs": [
    {
     "name": "stdout",
     "output_type": "stream",
     "text": [
      "13 Contra el patrimonio y el orden socioeconómico\n"
     ]
    },
    {
     "name": "stderr",
     "output_type": "stream",
     "text": [
      "C:\\Users\\asenj\\AppData\\Local\\Packages\\PythonSoftwareFoundation.Python.3.9_qbz5n2kfra8p0\\LocalCache\\local-packages\\Python39\\site-packages\\plotnine\\layer.py:411: PlotnineWarning:\n",
      "\n",
      "geom_col : Removed 143 rows containing missing values.\n",
      "\n"
     ]
    },
    {
     "data": {
      "image/png": "[encoded data removed]",
      "text/plain": [
       "<Figure size 1000x500 with 1 Axes>"
      ]
     },
     "metadata": {},
     "output_type": "display_data"
    },
    {
     "data": {
      "text/plain": [
       "<ggplot: (153341470058)>"
      ]
     },
     "execution_count": 475,
     "metadata": {},
     "output_type": "execute_result"
    }
   ],
   "source": [
    "salix = list(dic_datos.keys())[9]\n",
    "\n",
    "print(salix)\n",
    "\n",
    "(\n",
    "    ggplot(dic_datos[salix])  # What data to use\n",
    "    + aes(x = \"Periodo\", \n",
    "          y = \"%_Delincuencia_vs_poblacion\",\n",
    "          fill = 'Nacionalidad',\n",
    "          )  # What variable to use\n",
    "     + scale_y_continuous(limits=(0, 0.02))\n",
    "     + scale_x_continuous(breaks=range(2012,2022,1))\n",
    "    #+ geom_smooth(method = \"lowess\", span = 0.05)  # Geometric object to use for drawing\n",
    "    + geom_col(position = \"dodge\")\n",
    "     + facet_grid(facets = \". ~ Tipo de Delito: Nivel 2\")\n",
    "     + labs( y='', x='')\n",
    "    \n",
    "     + theme(figure_size=(10, 5))\n",
    "   \n",
    "     \n",
    ")"
   ]
  },
  {
   "cell_type": "code",
   "execution_count": 476,
   "metadata": {},
   "outputs": [
    {
     "name": "stdout",
     "output_type": "stream",
     "text": [
      "22 Contra el orden público\n"
     ]
    },
    {
     "name": "stderr",
     "output_type": "stream",
     "text": [
      "C:\\Users\\asenj\\AppData\\Local\\Packages\\PythonSoftwareFoundation.Python.3.9_qbz5n2kfra8p0\\LocalCache\\local-packages\\Python39\\site-packages\\plotnine\\layer.py:411: PlotnineWarning:\n",
      "\n",
      "geom_col : Removed 72 rows containing missing values.\n",
      "\n"
     ]
    },
    {
     "data": {
      "image/png": "[encoded data removed]",
      "text/plain": [
       "<Figure size 1000x500 with 1 Axes>"
      ]
     },
     "metadata": {},
     "output_type": "display_data"
    },
    {
     "data": {
      "text/plain": [
       "<ggplot: (153341701626)>"
      ]
     },
     "execution_count": 476,
     "metadata": {},
     "output_type": "execute_result"
    }
   ],
   "source": [
    "salix = list(dic_datos.keys())[10]\n",
    "\n",
    "print(salix)\n",
    "\n",
    "(\n",
    "    ggplot(dic_datos[salix])  # What data to use\n",
    "    + aes(x = \"Periodo\", \n",
    "          y = \"%_Delincuencia_vs_poblacion\",\n",
    "          fill = 'Nacionalidad',\n",
    "          )  # What variable to use\n",
    "     + scale_y_continuous(limits=(0, 0.02))\n",
    "     + scale_x_continuous(breaks=range(2012,2022,1))\n",
    "    #+ geom_smooth(method = \"lowess\", span = 0.05)  # Geometric object to use for drawing\n",
    "    + geom_col(position = \"dodge\")\n",
    "     + facet_grid(facets = \". ~ Tipo de Delito: Nivel 2\")\n",
    "     + labs( y='', x='')\n",
    "    \n",
    "     + theme(figure_size=(10, 5))\n",
    "   \n",
    "     \n",
    ")"
   ]
  },
  {
   "cell_type": "code",
   "execution_count": 477,
   "metadata": {},
   "outputs": [
    {
     "name": "stdout",
     "output_type": "stream",
     "text": [
      "R Resto de delitos\n"
     ]
    },
    {
     "name": "stderr",
     "output_type": "stream",
     "text": [
      "C:\\Users\\asenj\\AppData\\Local\\Packages\\PythonSoftwareFoundation.Python.3.9_qbz5n2kfra8p0\\LocalCache\\local-packages\\Python39\\site-packages\\plotnine\\layer.py:411: PlotnineWarning:\n",
      "\n",
      "geom_col : Removed 3 rows containing missing values.\n",
      "\n"
     ]
    },
    {
     "data": {
      "image/png": "[encoded data removed]",
      "text/plain": [
       "<Figure size 1000x500 with 1 Axes>"
      ]
     },
     "metadata": {},
     "output_type": "display_data"
    },
    {
     "data": {
      "text/plain": [
       "<ggplot: (153344026618)>"
      ]
     },
     "execution_count": 477,
     "metadata": {},
     "output_type": "execute_result"
    }
   ],
   "source": [
    "salix = list(dic_datos.keys())[11]\n",
    "\n",
    "print(salix)\n",
    "\n",
    "(\n",
    "    ggplot(dic_datos[salix])  # What data to use\n",
    "    + aes(x = \"Periodo\", \n",
    "          y = \"%_Delincuencia_vs_poblacion\",\n",
    "          fill = 'Nacionalidad',\n",
    "          )  # What variable to use\n",
    "     + scale_y_continuous(limits=(0, 0.02))\n",
    "     + scale_x_continuous(breaks=range(2012,2022,1))\n",
    "    #+ geom_smooth(method = \"lowess\", span = 0.05)  # Geometric object to use for drawing\n",
    "    + geom_col(position = \"dodge\")\n",
    "     + facet_grid(facets = \". ~ Tipo de Delito: Nivel 2\")\n",
    "     + labs( y='', x='')\n",
    "    \n",
    "     + theme(figure_size=(10, 5))\n",
    "   \n",
    "     \n",
    ")"
   ]
  },
  {
   "cell_type": "code",
   "execution_count": 478,
   "metadata": {},
   "outputs": [
    {
     "name": "stdout",
     "output_type": "stream",
     "text": [
      "17 Contra la seguridad colectiva\n"
     ]
    },
    {
     "name": "stderr",
     "output_type": "stream",
     "text": [
      "C:\\Users\\asenj\\AppData\\Local\\Packages\\PythonSoftwareFoundation.Python.3.9_qbz5n2kfra8p0\\LocalCache\\local-packages\\Python39\\site-packages\\plotnine\\layer.py:411: PlotnineWarning:\n",
      "\n",
      "geom_col : Removed 66 rows containing missing values.\n",
      "\n"
     ]
    },
    {
     "data": {
      "image/png": "[encoded data removed]",
      "text/plain": [
       "<Figure size 1000x500 with 1 Axes>"
      ]
     },
     "metadata": {},
     "output_type": "display_data"
    },
    {
     "data": {
      "text/plain": [
       "<ggplot: (153344101867)>"
      ]
     },
     "execution_count": 478,
     "metadata": {},
     "output_type": "execute_result"
    }
   ],
   "source": [
    "salix = list(dic_datos.keys())[12]\n",
    "\n",
    "print(salix)\n",
    "\n",
    "(\n",
    "    ggplot(dic_datos[salix])  # What data to use\n",
    "    + aes(x = \"Periodo\", \n",
    "          y = \"%_Delincuencia_vs_poblacion\",\n",
    "          fill = 'Nacionalidad',\n",
    "          )  # What variable to use\n",
    "     + scale_y_continuous(limits=(0, 0.02))\n",
    "     + scale_x_continuous(breaks=range(2012,2022,1))\n",
    "    #+ geom_smooth(method = \"lowess\", span = 0.05)  # Geometric object to use for drawing\n",
    "    + geom_col(position = \"dodge\")\n",
    "     + facet_grid(facets = \". ~ Tipo de Delito: Nivel 2\")\n",
    "     + labs( y='', x='')\n",
    "    \n",
    "     + theme(figure_size=(10, 5))\n",
    "   \n",
    "     \n",
    ")"
   ]
  },
  {
   "cell_type": "code",
   "execution_count": null,
   "metadata": {},
   "outputs": [],
   "source": []
  },
  {
   "cell_type": "code",
   "execution_count": null,
   "metadata": {},
   "outputs": [],
   "source": [
    "\n"
   ]
  },
  {
   "cell_type": "code",
   "execution_count": null,
   "metadata": {},
   "outputs": [],
   "source": []
  },
  {
   "cell_type": "code",
   "execution_count": 479,
   "metadata": {},
   "outputs": [
    {
     "data": {
      "application/vnd.plotly.v1+json": {
       "config": {
        "plotlyServerURL": "https://plot.ly"
       },
       "data": [
        {
         "hovertemplate": "Tipo de Delito: Nivel 2=1 Homicidio y sus formas<br>Periodo=2021<br>Nacionalidad=%{x}<br>%_Delincuencia_vs_poblacion=%{y}<extra></extra>",
         "ids": [
          "A Delitos",
          "A Delitos",
          "A Delitos",
          "A Delitos",
          "A Delitos",
          "A Delitos",
          "A Delitos",
          "A Delitos",
          "A Delitos",
          "A Delitos",
          "A Delitos",
          "A Delitos",
          "A Delitos",
          "A Delitos",
          "A Delitos",
          "A Delitos",
          "A Delitos",
          "A Delitos",
          "A Delitos",
          "A Delitos",
          "A Delitos",
          "A Delitos",
          "A Delitos",
          "A Delitos"
         ],
         "legendgroup": "1 Homicidio y sus formas",
         "marker": {
          "color": "#636efa",
          "symbol": "circle"
         },
         "mode": "markers",
         "name": "1 Homicidio y sus formas",
         "orientation": "v",
         "showlegend": true,
         "type": "scatter",
         "x": [
          "Española",
          "Española",
          "Española",
          "Española",
          "País de la UE27_2020 sin España",
          "País de la UE27_2020 sin España",
          "País de la UE27_2020 sin España",
          "País de la UE27_2020 sin España",
          "País de Europa menos UE27_2020",
          "País de Europa menos UE27_2020",
          "País de Europa menos UE27_2020",
          "País de Europa menos UE27_2020",
          "De Africa",
          "De Africa",
          "De Africa",
          "De Africa",
          "De América",
          "De América",
          "De América",
          "De América",
          "De Asia",
          "De Asia",
          "De Asia",
          "De Asia"
         ],
         "xaxis": "x",
         "y": [
          0.0010421022674884457,
          0.0003426089646537356,
          0.00015108103649661258,
          0.0005484122663380976,
          0.001817592159285233,
          0.0007501173990700961,
          0.00025965602275503325,
          0.0008078187374601035,
          0.0009947571790233079,
          0.0001657928631705513,
          0.00041448215792637833,
          0.00041448215792637833,
          0.004516448431235691,
          0.0018541209349283367,
          0.0007131234365108987,
          0.0019492040597964564,
          0.002689586726961316,
          0.001360995693161148,
          0.0007453071653025334,
          0.0005832838684976349,
          0.001861541113688795,
          0.0004653852784221987,
          0.0005817315980277484,
          0.0008144242372388476
         ],
         "yaxis": "y"
        }
       ],
       "frames": [
        {
         "data": [
          {
           "hovertemplate": "Tipo de Delito: Nivel 2=1 Homicidio y sus formas<br>Periodo=2021<br>Nacionalidad=%{x}<br>%_Delincuencia_vs_poblacion=%{y}<extra></extra>",
           "ids": [
            "A Delitos",
            "A Delitos",
            "A Delitos",
            "A Delitos",
            "A Delitos",
            "A Delitos",
            "A Delitos",
            "A Delitos",
            "A Delitos",
            "A Delitos",
            "A Delitos",
            "A Delitos",
            "A Delitos",
            "A Delitos",
            "A Delitos",
            "A Delitos",
            "A Delitos",
            "A Delitos",
            "A Delitos",
            "A Delitos",
            "A Delitos",
            "A Delitos",
            "A Delitos",
            "A Delitos"
           ],
           "legendgroup": "1 Homicidio y sus formas",
           "marker": {
            "color": "#636efa",
            "symbol": "circle"
           },
           "mode": "markers",
           "name": "1 Homicidio y sus formas",
           "orientation": "v",
           "showlegend": true,
           "type": "scatter",
           "x": [
            "Española",
            "Española",
            "Española",
            "Española",
            "País de la UE27_2020 sin España",
            "País de la UE27_2020 sin España",
            "País de la UE27_2020 sin España",
            "País de la UE27_2020 sin España",
            "País de Europa menos UE27_2020",
            "País de Europa menos UE27_2020",
            "País de Europa menos UE27_2020",
            "País de Europa menos UE27_2020",
            "De Africa",
            "De Africa",
            "De Africa",
            "De Africa",
            "De América",
            "De América",
            "De América",
            "De América",
            "De Asia",
            "De Asia",
            "De Asia",
            "De Asia"
           ],
           "xaxis": "x",
           "y": [
            0.0010421022674884457,
            0.0003426089646537356,
            0.00015108103649661258,
            0.0005484122663380976,
            0.001817592159285233,
            0.0007501173990700961,
            0.00025965602275503325,
            0.0008078187374601035,
            0.0009947571790233079,
            0.0001657928631705513,
            0.00041448215792637833,
            0.00041448215792637833,
            0.004516448431235691,
            0.0018541209349283367,
            0.0007131234365108987,
            0.0019492040597964564,
            0.002689586726961316,
            0.001360995693161148,
            0.0007453071653025334,
            0.0005832838684976349,
            0.001861541113688795,
            0.0004653852784221987,
            0.0005817315980277484,
            0.0008144242372388476
           ],
           "yaxis": "y"
          }
         ],
         "name": "2021"
        },
        {
         "data": [
          {
           "hovertemplate": "Tipo de Delito: Nivel 2=1 Homicidio y sus formas<br>Periodo=2020<br>Nacionalidad=%{x}<br>%_Delincuencia_vs_poblacion=%{y}<extra></extra>",
           "ids": [
            "A Delitos",
            "A Delitos",
            "A Delitos",
            "A Delitos",
            "A Delitos",
            "A Delitos",
            "A Delitos",
            "A Delitos",
            "A Delitos",
            "A Delitos",
            "A Delitos",
            "A Delitos",
            "A Delitos",
            "A Delitos",
            "A Delitos",
            "A Delitos",
            "A Delitos",
            "A Delitos",
            "A Delitos",
            "A Delitos",
            "A Delitos",
            "A Delitos",
            "A Delitos",
            "A Delitos",
            "A Delitos"
           ],
           "legendgroup": "1 Homicidio y sus formas",
           "marker": {
            "color": "#636efa",
            "symbol": "circle"
           },
           "mode": "markers",
           "name": "1 Homicidio y sus formas",
           "orientation": "v",
           "showlegend": true,
           "type": "scatter",
           "x": [
            "Española",
            "Española",
            "Española",
            "Española",
            "País de la UE27_2020 sin España",
            "País de la UE27_2020 sin España",
            "País de la UE27_2020 sin España",
            "País de la UE27_2020 sin España",
            "País de la UE27_2020 sin España",
            "País de Europa menos UE27_2020",
            "País de Europa menos UE27_2020",
            "País de Europa menos UE27_2020",
            "País de Europa menos UE27_2020",
            "De Africa",
            "De Africa",
            "De Africa",
            "De Africa",
            "De América",
            "De América",
            "De América",
            "De América",
            "De Asia",
            "De Asia",
            "De Asia",
            "De Asia"
           ],
           "xaxis": "x",
           "y": [
            0.0009333651406501142,
            0.0002671846776670174,
            0.00018762301809506114,
            0.0004785574448880356,
            null,
            null,
            null,
            null,
            null,
            null,
            null,
            null,
            null,
            0.0033360272257453166,
            0.0021756699298339024,
            0.00048348220662975603,
            0.0006768750892816585,
            0.0026474189289799333,
            0.0014784287525472354,
            0.0006532592162418017,
            0.000515730960190896,
            0.0010624956798682167,
            0.00047222030216365193,
            0.0003541652266227389,
            0.00023611015108182597
           ],
           "yaxis": "y"
          }
         ],
         "name": "2020"
        },
        {
         "data": [
          {
           "hovertemplate": "Tipo de Delito: Nivel 2=1 Homicidio y sus formas<br>Periodo=2019<br>Nacionalidad=%{x}<br>%_Delincuencia_vs_poblacion=%{y}<extra></extra>",
           "ids": [
            "A Delitos",
            "A Delitos",
            "A Delitos",
            "A Delitos",
            "A Delitos",
            "A Delitos",
            "A Delitos",
            "A Delitos",
            "A Delitos",
            "A Delitos",
            "A Delitos",
            "A Delitos",
            "A Delitos",
            "A Delitos",
            "A Delitos",
            "A Delitos",
            "A Delitos",
            "A Delitos",
            "A Delitos",
            "A Delitos",
            "A Delitos",
            "A Delitos",
            "A Delitos",
            "A Delitos",
            "A Delitos"
           ],
           "legendgroup": "1 Homicidio y sus formas",
           "marker": {
            "color": "#636efa",
            "symbol": "circle"
           },
           "mode": "markers",
           "name": "1 Homicidio y sus formas",
           "orientation": "v",
           "showlegend": true,
           "type": "scatter",
           "x": [
            "Española",
            "Española",
            "Española",
            "Española",
            "Española",
            "País de la UE28 sin España",
            "País de la UE28 sin España",
            "País de la UE28 sin España",
            "País de la UE28 sin España",
            "País de Europa menos UE28",
            "País de Europa menos UE28",
            "País de Europa menos UE28",
            "País de Europa menos UE28",
            "De Africa",
            "De Africa",
            "De Africa",
            "De Africa",
            "De América",
            "De América",
            "De América",
            "De América",
            "De Asia",
            "De Asia",
            "De Asia",
            "De Asia"
           ],
           "xaxis": "x",
           "y": [
            0.0010060134338271602,
            0.00026724087675455846,
            0.00019122569403326185,
            0.0005463591258093195,
            0.0000011877372300202598,
            0.0024661474394949774,
            0.0009915438158794238,
            0.000355938805700306,
            0.0011186648179152474,
            0.002727052330750979,
            0.0005454104661501958,
            0.0003636069774334638,
            0.001818034887167319,
            0.002575364938584143,
            0.0013391897680637543,
            0.0005665802864885114,
            0.0006695948840318771,
            0.0032644909523453156,
            0.0017138577499812909,
            0.0006528981904690632,
            0.0008977350118949619,
            0.0012621161643071375,
            0.0006310580821535688,
            0.00012621161643071375,
            0.000504846465722855
           ],
           "yaxis": "y"
          }
         ],
         "name": "2019"
        },
        {
         "data": [
          {
           "hovertemplate": "Tipo de Delito: Nivel 2=1 Homicidio y sus formas<br>Periodo=2018<br>Nacionalidad=%{x}<br>%_Delincuencia_vs_poblacion=%{y}<extra></extra>",
           "ids": [
            "A Delitos",
            "A Delitos",
            "A Delitos",
            "A Delitos",
            "A Delitos",
            "A Delitos",
            "A Delitos",
            "A Delitos",
            "A Delitos",
            "A Delitos",
            "A Delitos",
            "A Delitos",
            "A Delitos",
            "A Delitos",
            "A Delitos",
            "A Delitos",
            "A Delitos",
            "A Delitos",
            "A Delitos",
            "A Delitos",
            "A Delitos",
            "A Delitos",
            "A Delitos",
            "A Delitos"
           ],
           "legendgroup": "1 Homicidio y sus formas",
           "marker": {
            "color": "#636efa",
            "symbol": "circle"
           },
           "mode": "markers",
           "name": "1 Homicidio y sus formas",
           "orientation": "v",
           "showlegend": true,
           "type": "scatter",
           "x": [
            "Española",
            "Española",
            "Española",
            "Española",
            "Española",
            "País de la UE28 sin España",
            "País de la UE28 sin España",
            "País de la UE28 sin España",
            "País de la UE28 sin España",
            "País de Europa menos UE28",
            "País de Europa menos UE28",
            "País de Europa menos UE28",
            "De Africa",
            "De Africa",
            "De Africa",
            "De Africa",
            "De América",
            "De América",
            "De América",
            "De América",
            "De Asia",
            "De Asia",
            "De Asia",
            "De Asia"
           ],
           "xaxis": "x",
           "y": [
            0.0009941683788359957,
            0.00027200066756683753,
            0.0001496597559538058,
            0.0005713201794744492,
            0.0000011877758409032208,
            0.0022528310344404434,
            0.000673259849373006,
            0.00028484070550396413,
            0.0012947304795634731,
            0.0028676760785457224,
            0.0009558920261819074,
            0.0019117840523638148,
            0.00328251485781121,
            0.0015605398504348377,
            0.0006995523467466513,
            0.0010224226606297211,
            0.0037018421345070924,
            0.001686915403066523,
            0.0008903164627295539,
            0.0011246102687110153,
            0.0010848159868766492,
            0.0005424079934383246,
            0.00013560199835958115,
            0.00040680599507874346
           ],
           "yaxis": "y"
          }
         ],
         "name": "2018"
        },
        {
         "data": [
          {
           "hovertemplate": "Tipo de Delito: Nivel 2=1 Homicidio y sus formas<br>Periodo=2017<br>Nacionalidad=%{x}<br>%_Delincuencia_vs_poblacion=%{y}<extra></extra>",
           "ids": [
            "A Delitos",
            "A Delitos",
            "A Delitos",
            "A Delitos",
            "A Delitos",
            "A Delitos",
            "A Delitos",
            "A Delitos",
            "A Delitos",
            "A Delitos",
            "A Delitos",
            "A Delitos",
            "A Delitos",
            "A Delitos",
            "A Delitos",
            "A Delitos",
            "A Delitos",
            "A Delitos",
            "A Delitos",
            "A Delitos",
            "A Delitos",
            "A Delitos",
            "A Delitos",
            "A Delitos",
            "A Delitos"
           ],
           "legendgroup": "1 Homicidio y sus formas",
           "marker": {
            "color": "#636efa",
            "symbol": "circle"
           },
           "mode": "markers",
           "name": "1 Homicidio y sus formas",
           "orientation": "v",
           "showlegend": true,
           "type": "scatter",
           "x": [
            "Española",
            "Española",
            "Española",
            "Española",
            "Española",
            "País de la UE28 sin España",
            "País de la UE28 sin España",
            "País de la UE28 sin España",
            "País de la UE28 sin España",
            "País de Europa menos UE28",
            "País de Europa menos UE28",
            "País de Europa menos UE28",
            "País de Europa menos UE28",
            "De Africa",
            "De Africa",
            "De Africa",
            "De Africa",
            "De América",
            "De América",
            "De América",
            "De América",
            "De Asia",
            "De Asia",
            "De Asia",
            "De Asia"
           ],
           "xaxis": "x",
           "y": [
            0.0010983769721617151,
            0.0003158575941567743,
            0.00016030366620738547,
            0.0006210282772330562,
            0.0000011874345644991515,
            0.0025353119400000996,
            0.0009054685500000354,
            0.0006208927200000244,
            0.0010089506700000396,
            0.001981253316608641,
            0.0009906266583043204,
            0.0005943759949825924,
            0.00039625066332172823,
            0.0020301601369905925,
            0.0009327762791578398,
            0.0007132995075912892,
            0.00038408435024146347,
            0.0036640450711677543,
            0.0016514005954558894,
            0.0009289128349439377,
            0.0010837316407679273,
            0.002433389445320225,
            0.0012882650004636485,
            0.0010019838892495045,
            0.00014314055560707206
           ],
           "yaxis": "y"
          }
         ],
         "name": "2017"
        },
        {
         "data": [
          {
           "hovertemplate": "Tipo de Delito: Nivel 2=1 Homicidio y sus formas<br>Periodo=2016<br>Nacionalidad=%{x}<br>%_Delincuencia_vs_poblacion=%{y}<extra></extra>",
           "ids": [
            "A Delitos",
            "A Delitos",
            "A Delitos",
            "A Delitos",
            "A Delitos",
            "A Delitos",
            "A Delitos",
            "A Delitos",
            "A Delitos",
            "A Delitos",
            "A Delitos",
            "A Delitos",
            "A Delitos",
            "A Delitos",
            "A Delitos",
            "A Delitos",
            "A Delitos",
            "A Delitos",
            "A Delitos",
            "A Delitos",
            "A Delitos",
            "A Delitos",
            "A Delitos",
            "A Delitos",
            "A Delitos",
            "A Delitos",
            "A Delitos"
           ],
           "legendgroup": "1 Homicidio y sus formas",
           "marker": {
            "color": "#636efa",
            "symbol": "circle"
           },
           "mode": "markers",
           "name": "1 Homicidio y sus formas",
           "orientation": "v",
           "showlegend": true,
           "type": "scatter",
           "x": [
            "Española",
            "Española",
            "Española",
            "Española",
            "Española",
            "País de la UE28 sin España",
            "País de la UE28 sin España",
            "País de la UE28 sin España",
            "País de la UE28 sin España",
            "País de Europa menos UE28",
            "País de Europa menos UE28",
            "País de Europa menos UE28",
            "País de Europa menos UE28",
            "De Africa",
            "De Africa",
            "De Africa",
            "De Africa",
            "De América",
            "De América",
            "De América",
            "De América",
            "De Asia",
            "De Asia",
            "De Asia",
            "De Asia",
            "De Oceanía",
            "De Oceanía"
           ],
           "xaxis": "x",
           "y": [
            0.0000012231518750051034,
            0.00038431717473409385,
            0.000187994159777049,
            0.0006425116853139649,
            0.00000832885517999584,
            0.002068429420064878,
            0.0006722395615210854,
            0.0003361197807605427,
            0.00106007007778325,
            0.0018426427169454045,
            0.0006142142389818014,
            0.00040947615932120096,
            0.0008189523186424019,
            0.0027979326214194423,
            0.001721804690104272,
            0.0005918703622233436,
            0.00048425756909182654,
            0.0035623316525471844,
            0.001910235813684722,
            0.000826047919431231,
            0.000826047919431231,
            0.0017786232269140308,
            0.001333967420185523,
            0.00029643720448567176,
            0.00014821860224283588,
            0.0283116484645506,
            0.0283116484645506
           ],
           "yaxis": "y"
          }
         ],
         "name": "2016"
        },
        {
         "data": [
          {
           "hovertemplate": "Tipo de Delito: Nivel 2=1 Homicidio y sus formas<br>Periodo=2015<br>Nacionalidad=%{x}<br>%_Delincuencia_vs_poblacion=%{y}<extra></extra>",
           "ids": [
            "A Delitos",
            "A Delitos",
            "A Delitos",
            "A Delitos",
            "A Delitos",
            "A Delitos",
            "A Delitos",
            "A Delitos",
            "A Delitos",
            "A Delitos",
            "A Delitos",
            "A Delitos",
            "A Delitos",
            "A Delitos",
            "A Delitos",
            "A Delitos",
            "A Delitos",
            "A Delitos",
            "A Delitos",
            "A Delitos",
            "A Delitos",
            "A Delitos",
            "A Delitos"
           ],
           "legendgroup": "1 Homicidio y sus formas",
           "marker": {
            "color": "#636efa",
            "symbol": "circle"
           },
           "mode": "markers",
           "name": "1 Homicidio y sus formas",
           "orientation": "v",
           "showlegend": true,
           "type": "scatter",
           "x": [
            "Española",
            "Española",
            "Española",
            "Española",
            "País de la UE28 sin España",
            "País de la UE28 sin España",
            "País de la UE28 sin España",
            "País de la UE28 sin España",
            "País de Europa menos UE28",
            "País de Europa menos UE28",
            "País de Europa menos UE28",
            "De Africa",
            "De Africa",
            "De Africa",
            "De Africa",
            "De América",
            "De América",
            "De América",
            "De América",
            "De Asia",
            "De Asia",
            "De Asia",
            "De Asia"
           ],
           "xaxis": "x",
           "y": [
            0.0000012751453860740518,
            0.00038337704417912673,
            0.00024169422350423208,
            0.0006500741183906931,
            0.0027714867611172106,
            0.0011291242360107155,
            0.0005389002035505687,
            0.0011034623215559266,
            0.0023759935055513506,
            0.0006479982287867319,
            0.0017279952767646183,
            0.0031939940111301245,
            0.0021293293407534165,
            0.0005323323351883541,
            0.0005323323351883541,
            0.004545293496011475,
            0.002197724327741812,
            0.0013985518449266075,
            0.0009490173233430552,
            0.002119889274780453,
            0.0015142066248431808,
            0.0003028413249686362,
            0.0003028413249686362
           ],
           "yaxis": "y"
          }
         ],
         "name": "2015"
        },
        {
         "data": [
          {
           "hovertemplate": "Tipo de Delito: Nivel 2=1 Homicidio y sus formas<br>Periodo=2014<br>Nacionalidad=%{x}<br>%_Delincuencia_vs_poblacion=%{y}<extra></extra>",
           "ids": [
            "A Delitos",
            "A Delitos",
            "A Delitos",
            "A Delitos",
            "A Delitos",
            "A Delitos",
            "A Delitos",
            "A Delitos",
            "A Delitos",
            "A Delitos",
            "A Delitos",
            "A Delitos",
            "A Delitos",
            "A Delitos",
            "A Delitos",
            "A Delitos",
            "A Delitos",
            "A Delitos",
            "A Delitos",
            "A Delitos",
            "A Delitos",
            "A Delitos",
            "A Delitos",
            "A Delitos",
            "A Delitos",
            "A Delitos"
           ],
           "legendgroup": "1 Homicidio y sus formas",
           "marker": {
            "color": "#636efa",
            "symbol": "circle"
           },
           "mode": "markers",
           "name": "1 Homicidio y sus formas",
           "orientation": "v",
           "showlegend": true,
           "type": "scatter",
           "x": [
            "Española",
            "Española",
            "Española",
            "Española",
            "País de la UE28 sin España",
            "País de la UE28 sin España",
            "País de la UE28 sin España",
            "País de la UE28 sin España",
            "País de Europa menos UE28",
            "País de Europa menos UE28",
            "País de Europa menos UE28",
            "País de Europa menos UE28",
            "De Africa",
            "De Africa",
            "De Africa",
            "De Africa",
            "De América",
            "De América",
            "De América",
            "De América",
            "De Asia",
            "De Asia",
            "De Asia",
            "De Asia",
            "De Oceanía",
            "De Oceanía"
           ],
           "xaxis": "x",
           "y": [
            0.0000012107046980465032,
            0.0003872342765716358,
            0.00021991082373204007,
            0.0006035595977428275,
            0.0023856239506821714,
            0.0013058152151102411,
            0.0004269011280168096,
            0.0006529076075551206,
            0.002003696073479892,
            0.0008905315882132853,
            0.00044526579410664267,
            0.000667898691159964,
            0.003272691404689594,
            0.0019942963247327216,
            0.0007670370479741236,
            0.0005113580319827491,
            0.004269468671800588,
            0.0026575264181615908,
            0.0010891501713777012,
            0.0005227920822612964,
            0.0022566272239586613,
            0.0016548599642363516,
            0.00015044181493057744,
            0.00045132544479173234,
            0.017026162776979735,
            0.017026162776979735
           ],
           "yaxis": "y"
          }
         ],
         "name": "2014"
        },
        {
         "data": [
          {
           "hovertemplate": "Tipo de Delito: Nivel 2=1 Homicidio y sus formas<br>Periodo=2013<br>Nacionalidad=%{x}<br>%_Delincuencia_vs_poblacion=%{y}<extra></extra>",
           "ids": [
            "A Delitos",
            "A Delitos",
            "A Delitos",
            "A Delitos",
            "A Delitos",
            "A Delitos",
            "A Delitos",
            "A Delitos",
            "A Delitos",
            "A Delitos",
            "A Delitos",
            "A Delitos",
            "A Delitos",
            "A Delitos",
            "A Delitos",
            "A Delitos",
            "A Delitos",
            "A Delitos",
            "A Delitos",
            "A Delitos",
            "A Delitos",
            "A Delitos",
            "A Delitos",
            "A Delitos",
            "A Delitos",
            "A Delitos",
            "A Delitos"
           ],
           "legendgroup": "1 Homicidio y sus formas",
           "marker": {
            "color": "#636efa",
            "symbol": "circle"
           },
           "mode": "markers",
           "name": "1 Homicidio y sus formas",
           "orientation": "v",
           "showlegend": true,
           "type": "scatter",
           "x": [
            "Española",
            "Española",
            "Española",
            "Española",
            "Española",
            "País de la UE28 sin España",
            "País de la UE28 sin España",
            "País de la UE28 sin España",
            "País de la UE28 sin España",
            "País de Europa menos UE28",
            "País de Europa menos UE28",
            "País de Europa menos UE28",
            "País de Europa menos UE28",
            "De Africa",
            "De Africa",
            "De Africa",
            "De Africa",
            "De América",
            "De América",
            "De América",
            "De América",
            "De Asia",
            "De Asia",
            "De Asia",
            "De Asia",
            "De Oceanía",
            "De Oceanía"
           ],
           "xaxis": "x",
           "y": [
            0.0000013155617216997535,
            0.0004069118828980077,
            0.00024366699772358574,
            0.0006637825110401128,
            0.0000012003300380472203,
            0.002450686806667839,
            0.0008735121291093287,
            0.0007521910000663663,
            0.0008249836774921438,
            0.0026380153516563725,
            0.0013190076758281862,
            0.0006595038379140931,
            0.0006595038379140931,
            0.004330460818203369,
            0.00250204402829528,
            0.0010585570888941567,
            0.0007698597010139322,
            0.004047589771600089,
            0.002399898360152265,
            0.001325317004860206,
            0.0003223744065876177,
            0.0020216700048412664,
            0.0017328600041496569,
            0.00014440500034580475,
            0.00014440500034580475,
            0.01818063923016995,
            0.01818063923016995
           ],
           "yaxis": "y"
          }
         ],
         "name": "2013"
        }
       ],
       "layout": {
        "legend": {
         "title": {
          "text": "Tipo de Delito: Nivel 2"
         },
         "tracegroupgap": 0
        },
        "sliders": [
         {
          "active": 0,
          "currentvalue": {
           "prefix": "Periodo="
          },
          "len": 0.9,
          "pad": {
           "b": 10,
           "t": 60
          },
          "steps": [
           {
            "args": [
             [
              "2021"
             ],
             {
              "frame": {
               "duration": 0,
               "redraw": false
              },
              "fromcurrent": true,
              "mode": "immediate",
              "transition": {
               "duration": 0,
               "easing": "linear"
              }
             }
            ],
            "label": "2021",
            "method": "animate"
           },
           {
            "args": [
             [
              "2020"
             ],
             {
              "frame": {
               "duration": 0,
               "redraw": false
              },
              "fromcurrent": true,
              "mode": "immediate",
              "transition": {
               "duration": 0,
               "easing": "linear"
              }
             }
            ],
            "label": "2020",
            "method": "animate"
           },
           {
            "args": [
             [
              "2019"
             ],
             {
              "frame": {
               "duration": 0,
               "redraw": false
              },
              "fromcurrent": true,
              "mode": "immediate",
              "transition": {
               "duration": 0,
               "easing": "linear"
              }
             }
            ],
            "label": "2019",
            "method": "animate"
           },
           {
            "args": [
             [
              "2018"
             ],
             {
              "frame": {
               "duration": 0,
               "redraw": false
              },
              "fromcurrent": true,
              "mode": "immediate",
              "transition": {
               "duration": 0,
               "easing": "linear"
              }
             }
            ],
            "label": "2018",
            "method": "animate"
           },
           {
            "args": [
             [
              "2017"
             ],
             {
              "frame": {
               "duration": 0,
               "redraw": false
              },
              "fromcurrent": true,
              "mode": "immediate",
              "transition": {
               "duration": 0,
               "easing": "linear"
              }
             }
            ],
            "label": "2017",
            "method": "animate"
           },
           {
            "args": [
             [
              "2016"
             ],
             {
              "frame": {
               "duration": 0,
               "redraw": false
              },
              "fromcurrent": true,
              "mode": "immediate",
              "transition": {
               "duration": 0,
               "easing": "linear"
              }
             }
            ],
            "label": "2016",
            "method": "animate"
           },
           {
            "args": [
             [
              "2015"
             ],
             {
              "frame": {
               "duration": 0,
               "redraw": false
              },
              "fromcurrent": true,
              "mode": "immediate",
              "transition": {
               "duration": 0,
               "easing": "linear"
              }
             }
            ],
            "label": "2015",
            "method": "animate"
           },
           {
            "args": [
             [
              "2014"
             ],
             {
              "frame": {
               "duration": 0,
               "redraw": false
              },
              "fromcurrent": true,
              "mode": "immediate",
              "transition": {
               "duration": 0,
               "easing": "linear"
              }
             }
            ],
            "label": "2014",
            "method": "animate"
           },
           {
            "args": [
             [
              "2013"
             ],
             {
              "frame": {
               "duration": 0,
               "redraw": false
              },
              "fromcurrent": true,
              "mode": "immediate",
              "transition": {
               "duration": 0,
               "easing": "linear"
              }
             }
            ],
            "label": "2013",
            "method": "animate"
           }
          ],
          "x": 0.1,
          "xanchor": "left",
          "y": 0,
          "yanchor": "top"
         }
        ],
        "template": {
         "data": {
          "bar": [
           {
            "error_x": {
             "color": "#2a3f5f"
            },
            "error_y": {
             "color": "#2a3f5f"
            },
            "marker": {
             "line": {
              "color": "#E5ECF6",
              "width": 0.5
             },
             "pattern": {
              "fillmode": "overlay",
              "size": 10,
              "solidity": 0.2
             }
            },
            "type": "bar"
           }
          ],
          "barpolar": [
           {
            "marker": {
             "line": {
              "color": "#E5ECF6",
              "width": 0.5
             },
             "pattern": {
              "fillmode": "overlay",
              "size": 10,
              "solidity": 0.2
             }
            },
            "type": "barpolar"
           }
          ],
          "carpet": [
           {
            "aaxis": {
             "endlinecolor": "#2a3f5f",
             "gridcolor": "white",
             "linecolor": "white",
             "minorgridcolor": "white",
             "startlinecolor": "#2a3f5f"
            },
            "baxis": {
             "endlinecolor": "#2a3f5f",
             "gridcolor": "white",
             "linecolor": "white",
             "minorgridcolor": "white",
             "startlinecolor": "#2a3f5f"
            },
            "type": "carpet"
           }
          ],
          "choropleth": [
           {
            "colorbar": {
             "outlinewidth": 0,
             "ticks": ""
            },
            "type": "choropleth"
           }
          ],
          "contour": [
           {
            "colorbar": {
             "outlinewidth": 0,
             "ticks": ""
            },
            "colorscale": [
             [
              0,
              "#0d0887"
             ],
             [
              0.1111111111111111,
              "#46039f"
             ],
             [
              0.2222222222222222,
              "#7201a8"
             ],
             [
              0.3333333333333333,
              "#9c179e"
             ],
             [
              0.4444444444444444,
              "#bd3786"
             ],
             [
              0.5555555555555556,
              "#d8576b"
             ],
             [
              0.6666666666666666,
              "#ed7953"
             ],
             [
              0.7777777777777778,
              "#fb9f3a"
             ],
             [
              0.8888888888888888,
              "#fdca26"
             ],
             [
              1,
              "#f0f921"
             ]
            ],
            "type": "contour"
           }
          ],
          "contourcarpet": [
           {
            "colorbar": {
             "outlinewidth": 0,
             "ticks": ""
            },
            "type": "contourcarpet"
           }
          ],
          "heatmap": [
           {
            "colorbar": {
             "outlinewidth": 0,
             "ticks": ""
            },
            "colorscale": [
             [
              0,
              "#0d0887"
             ],
             [
              0.1111111111111111,
              "#46039f"
             ],
             [
              0.2222222222222222,
              "#7201a8"
             ],
             [
              0.3333333333333333,
              "#9c179e"
             ],
             [
              0.4444444444444444,
              "#bd3786"
             ],
             [
              0.5555555555555556,
              "#d8576b"
             ],
             [
              0.6666666666666666,
              "#ed7953"
             ],
             [
              0.7777777777777778,
              "#fb9f3a"
             ],
             [
              0.8888888888888888,
              "#fdca26"
             ],
             [
              1,
              "#f0f921"
             ]
            ],
            "type": "heatmap"
           }
          ],
          "heatmapgl": [
           {
            "colorbar": {
             "outlinewidth": 0,
             "ticks": ""
            },
            "colorscale": [
             [
              0,
              "#0d0887"
             ],
             [
              0.1111111111111111,
              "#46039f"
             ],
             [
              0.2222222222222222,
              "#7201a8"
             ],
             [
              0.3333333333333333,
              "#9c179e"
             ],
             [
              0.4444444444444444,
              "#bd3786"
             ],
             [
              0.5555555555555556,
              "#d8576b"
             ],
             [
              0.6666666666666666,
              "#ed7953"
             ],
             [
              0.7777777777777778,
              "#fb9f3a"
             ],
             [
              0.8888888888888888,
              "#fdca26"
             ],
             [
              1,
              "#f0f921"
             ]
            ],
            "type": "heatmapgl"
           }
          ],
          "histogram": [
           {
            "marker": {
             "pattern": {
              "fillmode": "overlay",
              "size": 10,
              "solidity": 0.2
             }
            },
            "type": "histogram"
           }
          ],
          "histogram2d": [
           {
            "colorbar": {
             "outlinewidth": 0,
             "ticks": ""
            },
            "colorscale": [
             [
              0,
              "#0d0887"
             ],
             [
              0.1111111111111111,
              "#46039f"
             ],
             [
              0.2222222222222222,
              "#7201a8"
             ],
             [
              0.3333333333333333,
              "#9c179e"
             ],
             [
              0.4444444444444444,
              "#bd3786"
             ],
             [
              0.5555555555555556,
              "#d8576b"
             ],
             [
              0.6666666666666666,
              "#ed7953"
             ],
             [
              0.7777777777777778,
              "#fb9f3a"
             ],
             [
              0.8888888888888888,
              "#fdca26"
             ],
             [
              1,
              "#f0f921"
             ]
            ],
            "type": "histogram2d"
           }
          ],
          "histogram2dcontour": [
           {
            "colorbar": {
             "outlinewidth": 0,
             "ticks": ""
            },
            "colorscale": [
             [
              0,
              "#0d0887"
             ],
             [
              0.1111111111111111,
              "#46039f"
             ],
             [
              0.2222222222222222,
              "#7201a8"
             ],
             [
              0.3333333333333333,
              "#9c179e"
             ],
             [
              0.4444444444444444,
              "#bd3786"
             ],
             [
              0.5555555555555556,
              "#d8576b"
             ],
             [
              0.6666666666666666,
              "#ed7953"
             ],
             [
              0.7777777777777778,
              "#fb9f3a"
             ],
             [
              0.8888888888888888,
              "#fdca26"
             ],
             [
              1,
              "#f0f921"
             ]
            ],
            "type": "histogram2dcontour"
           }
          ],
          "mesh3d": [
           {
            "colorbar": {
             "outlinewidth": 0,
             "ticks": ""
            },
            "type": "mesh3d"
           }
          ],
          "parcoords": [
           {
            "line": {
             "colorbar": {
              "outlinewidth": 0,
              "ticks": ""
             }
            },
            "type": "parcoords"
           }
          ],
          "pie": [
           {
            "automargin": true,
            "type": "pie"
           }
          ],
          "scatter": [
           {
            "fillpattern": {
             "fillmode": "overlay",
             "size": 10,
             "solidity": 0.2
            },
            "type": "scatter"
           }
          ],
          "scatter3d": [
           {
            "line": {
             "colorbar": {
              "outlinewidth": 0,
              "ticks": ""
             }
            },
            "marker": {
             "colorbar": {
              "outlinewidth": 0,
              "ticks": ""
             }
            },
            "type": "scatter3d"
           }
          ],
          "scattercarpet": [
           {
            "marker": {
             "colorbar": {
              "outlinewidth": 0,
              "ticks": ""
             }
            },
            "type": "scattercarpet"
           }
          ],
          "scattergeo": [
           {
            "marker": {
             "colorbar": {
              "outlinewidth": 0,
              "ticks": ""
             }
            },
            "type": "scattergeo"
           }
          ],
          "scattergl": [
           {
            "marker": {
             "colorbar": {
              "outlinewidth": 0,
              "ticks": ""
             }
            },
            "type": "scattergl"
           }
          ],
          "scattermapbox": [
           {
            "marker": {
             "colorbar": {
              "outlinewidth": 0,
              "ticks": ""
             }
            },
            "type": "scattermapbox"
           }
          ],
          "scatterpolar": [
           {
            "marker": {
             "colorbar": {
              "outlinewidth": 0,
              "ticks": ""
             }
            },
            "type": "scatterpolar"
           }
          ],
          "scatterpolargl": [
           {
            "marker": {
             "colorbar": {
              "outlinewidth": 0,
              "ticks": ""
             }
            },
            "type": "scatterpolargl"
           }
          ],
          "scatterternary": [
           {
            "marker": {
             "colorbar": {
              "outlinewidth": 0,
              "ticks": ""
             }
            },
            "type": "scatterternary"
           }
          ],
          "surface": [
           {
            "colorbar": {
             "outlinewidth": 0,
             "ticks": ""
            },
            "colorscale": [
             [
              0,
              "#0d0887"
             ],
             [
              0.1111111111111111,
              "#46039f"
             ],
             [
              0.2222222222222222,
              "#7201a8"
             ],
             [
              0.3333333333333333,
              "#9c179e"
             ],
             [
              0.4444444444444444,
              "#bd3786"
             ],
             [
              0.5555555555555556,
              "#d8576b"
             ],
             [
              0.6666666666666666,
              "#ed7953"
             ],
             [
              0.7777777777777778,
              "#fb9f3a"
             ],
             [
              0.8888888888888888,
              "#fdca26"
             ],
             [
              1,
              "#f0f921"
             ]
            ],
            "type": "surface"
           }
          ],
          "table": [
           {
            "cells": {
             "fill": {
              "color": "#EBF0F8"
             },
             "line": {
              "color": "white"
             }
            },
            "header": {
             "fill": {
              "color": "#C8D4E3"
             },
             "line": {
              "color": "white"
             }
            },
            "type": "table"
           }
          ]
         },
         "layout": {
          "annotationdefaults": {
           "arrowcolor": "#2a3f5f",
           "arrowhead": 0,
           "arrowwidth": 1
          },
          "autotypenumbers": "strict",
          "coloraxis": {
           "colorbar": {
            "outlinewidth": 0,
            "ticks": ""
           }
          },
          "colorscale": {
           "diverging": [
            [
             0,
             "#8e0152"
            ],
            [
             0.1,
             "#c51b7d"
            ],
            [
             0.2,
             "#de77ae"
            ],
            [
             0.3,
             "#f1b6da"
            ],
            [
             0.4,
             "#fde0ef"
            ],
            [
             0.5,
             "#f7f7f7"
            ],
            [
             0.6,
             "#e6f5d0"
            ],
            [
             0.7,
             "#b8e186"
            ],
            [
             0.8,
             "#7fbc41"
            ],
            [
             0.9,
             "#4d9221"
            ],
            [
             1,
             "#276419"
            ]
           ],
           "sequential": [
            [
             0,
             "#0d0887"
            ],
            [
             0.1111111111111111,
             "#46039f"
            ],
            [
             0.2222222222222222,
             "#7201a8"
            ],
            [
             0.3333333333333333,
             "#9c179e"
            ],
            [
             0.4444444444444444,
             "#bd3786"
            ],
            [
             0.5555555555555556,
             "#d8576b"
            ],
            [
             0.6666666666666666,
             "#ed7953"
            ],
            [
             0.7777777777777778,
             "#fb9f3a"
            ],
            [
             0.8888888888888888,
             "#fdca26"
            ],
            [
             1,
             "#f0f921"
            ]
           ],
           "sequentialminus": [
            [
             0,
             "#0d0887"
            ],
            [
             0.1111111111111111,
             "#46039f"
            ],
            [
             0.2222222222222222,
             "#7201a8"
            ],
            [
             0.3333333333333333,
             "#9c179e"
            ],
            [
             0.4444444444444444,
             "#bd3786"
            ],
            [
             0.5555555555555556,
             "#d8576b"
            ],
            [
             0.6666666666666666,
             "#ed7953"
            ],
            [
             0.7777777777777778,
             "#fb9f3a"
            ],
            [
             0.8888888888888888,
             "#fdca26"
            ],
            [
             1,
             "#f0f921"
            ]
           ]
          },
          "colorway": [
           "#636efa",
           "#EF553B",
           "#00cc96",
           "#ab63fa",
           "#FFA15A",
           "#19d3f3",
           "#FF6692",
           "#B6E880",
           "#FF97FF",
           "#FECB52"
          ],
          "font": {
           "color": "#2a3f5f"
          },
          "geo": {
           "bgcolor": "white",
           "lakecolor": "white",
           "landcolor": "#E5ECF6",
           "showlakes": true,
           "showland": true,
           "subunitcolor": "white"
          },
          "hoverlabel": {
           "align": "left"
          },
          "hovermode": "closest",
          "mapbox": {
           "style": "light"
          },
          "paper_bgcolor": "white",
          "plot_bgcolor": "#E5ECF6",
          "polar": {
           "angularaxis": {
            "gridcolor": "white",
            "linecolor": "white",
            "ticks": ""
           },
           "bgcolor": "#E5ECF6",
           "radialaxis": {
            "gridcolor": "white",
            "linecolor": "white",
            "ticks": ""
           }
          },
          "scene": {
           "xaxis": {
            "backgroundcolor": "#E5ECF6",
            "gridcolor": "white",
            "gridwidth": 2,
            "linecolor": "white",
            "showbackground": true,
            "ticks": "",
            "zerolinecolor": "white"
           },
           "yaxis": {
            "backgroundcolor": "#E5ECF6",
            "gridcolor": "white",
            "gridwidth": 2,
            "linecolor": "white",
            "showbackground": true,
            "ticks": "",
            "zerolinecolor": "white"
           },
           "zaxis": {
            "backgroundcolor": "#E5ECF6",
            "gridcolor": "white",
            "gridwidth": 2,
            "linecolor": "white",
            "showbackground": true,
            "ticks": "",
            "zerolinecolor": "white"
           }
          },
          "shapedefaults": {
           "line": {
            "color": "#2a3f5f"
           }
          },
          "ternary": {
           "aaxis": {
            "gridcolor": "white",
            "linecolor": "white",
            "ticks": ""
           },
           "baxis": {
            "gridcolor": "white",
            "linecolor": "white",
            "ticks": ""
           },
           "bgcolor": "#E5ECF6",
           "caxis": {
            "gridcolor": "white",
            "linecolor": "white",
            "ticks": ""
           }
          },
          "title": {
           "x": 0.05
          },
          "xaxis": {
           "automargin": true,
           "gridcolor": "white",
           "linecolor": "white",
           "ticks": "",
           "title": {
            "standoff": 15
           },
           "zerolinecolor": "white",
           "zerolinewidth": 2
          },
          "yaxis": {
           "automargin": true,
           "gridcolor": "white",
           "linecolor": "white",
           "ticks": "",
           "title": {
            "standoff": 15
           },
           "zerolinecolor": "white",
           "zerolinewidth": 2
          }
         }
        },
        "title": {
         "text": "Secondary enrollment vs Life expectancy [2000 - 2015]"
        },
        "updatemenus": [
         {
          "buttons": [
           {
            "args": [
             null,
             {
              "frame": {
               "duration": 500,
               "redraw": false
              },
              "fromcurrent": true,
              "mode": "immediate",
              "transition": {
               "duration": 500,
               "easing": "linear"
              }
             }
            ],
            "label": "&#9654;",
            "method": "animate"
           },
           {
            "args": [
             [
              null
             ],
             {
              "frame": {
               "duration": 0,
               "redraw": false
              },
              "fromcurrent": true,
              "mode": "immediate",
              "transition": {
               "duration": 0,
               "easing": "linear"
              }
             }
            ],
            "label": "&#9724;",
            "method": "animate"
           }
          ],
          "direction": "left",
          "pad": {
           "r": 10,
           "t": 70
          },
          "showactive": false,
          "type": "buttons",
          "x": 0.1,
          "xanchor": "right",
          "y": 0,
          "yanchor": "top"
         }
        ],
        "xaxis": {
         "anchor": "y",
         "domain": [
          0,
          1
         ],
         "title": {
          "text": "Nacionalidad"
         }
        },
        "yaxis": {
         "anchor": "x",
         "domain": [
          0,
          1
         ],
         "range": [
          0,
          0.2
         ],
         "title": {
          "text": "%_Delincuencia_vs_poblacion"
         }
        }
       }
      }
     },
     "metadata": {},
     "output_type": "display_data"
    }
   ],
   "source": [
    "px.scatter(df_poblacion_vs_delincuencia_, \n",
    "           y=\"%_Delincuencia_vs_poblacion\", \n",
    "           x=\"Nacionalidad\", \n",
    "           color=\"Tipo de Delito: Nivel 2\",\n",
    "           #size='%_Delincuencia_vs_poblacion',\n",
    "           animation_frame=\"Periodo\",\n",
    "           animation_group=\"Tipo de Delito: Nivel 1\",\n",
    "           title='Secondary enrollment vs Life expectancy [2000 - 2015]',\n",
    "           range_y=[0, 0.2])"
   ]
  }
 ],
 "metadata": {
  "kernelspec": {
   "display_name": "Python 3",
   "language": "python",
   "name": "python3"
  },
  "language_info": {
   "codemirror_mode": {
    "name": "ipython",
    "version": 3
   },
   "file_extension": ".py",
   "mimetype": "text/x-python",
   "name": "python",
   "nbconvert_exporter": "python",
   "pygments_lexer": "ipython3",
   "version": "3.9.13"
  },
  "orig_nbformat": 4
 },
 "nbformat": 4,
 "nbformat_minor": 2
}
